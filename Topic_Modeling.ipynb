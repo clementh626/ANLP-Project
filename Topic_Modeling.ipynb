{
  "nbformat": 4,
  "nbformat_minor": 0,
  "metadata": {
    "colab": {
      "provenance": [],
      "authorship_tag": "ABX9TyNTCYtUpoLSzc2WqeVZUsl7",
      "include_colab_link": true
    },
    "kernelspec": {
      "name": "python3",
      "display_name": "Python 3"
    },
    "language_info": {
      "name": "python"
    }
  },
  "cells": [
    {
      "cell_type": "markdown",
      "metadata": {
        "id": "view-in-github",
        "colab_type": "text"
      },
      "source": [
        "<a href=\"https://colab.research.google.com/github/clementh626/ANLP-Project/blob/main/Topic_Modeling.ipynb\" target=\"_parent\"><img src=\"https://colab.research.google.com/assets/colab-badge.svg\" alt=\"Open In Colab\"/></a>"
      ]
    },
    {
      "cell_type": "code",
      "source": [
        "# Step 1: Authenticate and access Google Sheets\n",
        "from google.colab import auth\n",
        "auth.authenticate_user()\n",
        "\n",
        "import gspread\n",
        "from google.auth import default\n",
        "import pandas as pd\n",
        "from sklearn.feature_extraction.text import CountVectorizer\n",
        "from sklearn.decomposition import LatentDirichletAllocation\n",
        "\n",
        "# Google Sheets authentication\n",
        "creds, _ = default()\n",
        "gc = gspread.authorize(creds)\n",
        "\n",
        "# Open the worksheet using its URL\n",
        "worksheet = gc.open_by_url('https://docs.google.com/spreadsheets/d/1rmuxCVt7WhjNyE1vMfdXxIaKn5MPgFRXdHLvBm7L2Ng/edit?gid=1118986519#gid=1118986519').sheet1\n",
        "\n",
        "# Fetch all data from the worksheet\n",
        "rows = worksheet.get_all_values()\n",
        "\n",
        "# Step 2: Convert the worksheet data to a DataFrame, skipping the first row (header)\n",
        "df = pd.DataFrame(rows[1:], columns=rows[0])\n",
        "\n",
        "# Print the DataFrame to verify\n",
        "print(df)\n",
        "\n",
        "# Step 3: Apply the topic modeling pipeline (provided earlier)\n",
        "\n",
        "# Example pipeline for multiple rating categories\n",
        "\n",
        "def topic_modeling_pipeline(df, category_columns, n_topics=5, n_top_words=10):\n",
        "    \"\"\"\n",
        "    Function to extract keywords related to multiple rating categories.\n",
        "\n",
        "    Args:\n",
        "        df (pd.DataFrame): The input dataframe containing review titles and rating columns.\n",
        "        category_columns (list): List of column names of the rating categories to focus on.\n",
        "        n_topics (int): Number of topics for LDA.\n",
        "        n_top_words (int): Number of top words to extract from each topic.\n",
        "\n",
        "    Returns:\n",
        "        dict: A dictionary where the key is the rating category and the value is a list of relevant keywords.\n",
        "    \"\"\"\n",
        "\n",
        "    # Initialize an empty dictionary to store keywords for each category\n",
        "    output_dict = {}\n",
        "\n",
        "    # Loop through each rating category (topic)\n",
        "    for category_column in category_columns:\n",
        "        # Filter out rows where 'Review Title' or the category column is empty or NaN\n",
        "        filtered_df = df.dropna(subset=['Review Title', category_column])\n",
        "        filtered_df = filtered_df[filtered_df['Review Title'] != '']\n",
        "\n",
        "        # Convert the 'Review Title' column into a list (corpus)\n",
        "        corpus = filtered_df['Review Title'].tolist()\n",
        "\n",
        "        # Step 1: Create document-term matrix using CountVectorizer\n",
        "        vectorizer = CountVectorizer(max_df=0.95, min_df=2, stop_words='english')\n",
        "        dtm = vectorizer.fit_transform(corpus)\n",
        "\n",
        "        # Step 2: Apply Latent Dirichlet Allocation (LDA)\n",
        "        lda = LatentDirichletAllocation(n_components=n_topics, random_state=42)\n",
        "        lda.fit(dtm)\n",
        "\n",
        "        # Step 3: Extract top words for each topic\n",
        "        feature_names = vectorizer.get_feature_names_out()\n",
        "        keywords = []\n",
        "\n",
        "        for topic_idx, topic in enumerate(lda.components_):\n",
        "            top_words = [feature_names[i] for i in topic.argsort()[:-n_top_words - 1:-1]]\n",
        "            keywords.extend(top_words)\n",
        "\n",
        "        # Store the unique keywords for the category in the dictionary\n",
        "        output_dict[category_column] = list(set(keywords))\n",
        "\n",
        "    # Return the dictionary with relevant keywords for each rating category\n",
        "    return output_dict"
      ],
      "metadata": {
        "colab": {
          "base_uri": "https://localhost:8080/"
        },
        "id": "uCGc4Un37fpb",
        "outputId": "f527de97-1cd3-4f68-943e-e4bd1ecbf145"
      },
      "execution_count": null,
      "outputs": [
        {
          "output_type": "stream",
          "name": "stdout",
          "text": [
            "                       Company Page  \\\n",
            "0            0     101-Network    1   \n",
            "1            1        1010data    1   \n",
            "2            2  10X%20Genomics    1   \n",
            "3            3  10X%20Genomics    1   \n",
            "4            4  10X%20Genomics    1   \n",
            "...        ...             ...  ...   \n",
            "203536  203536          zeotap    1   \n",
            "203537  203537          zimlab    1   \n",
            "203538  203538            ztoo    1   \n",
            "203539  203539         zuumers    1   \n",
            "203540  203540           zyfra    1   \n",
            "\n",
            "                                             Review Title Overall Rating  \\\n",
            "0                                            Not so great              3   \n",
            "1       Ok work life balance, complex product operatin...              2   \n",
            "2                                     Work hard play hard              4   \n",
            "3                             Great internship experience              4   \n",
            "4                                          So far so good              5   \n",
            "...                                                   ...            ...   \n",
            "203536                    Good place to start your career              5   \n",
            "203537                               Great pharma company              5   \n",
            "203538  Good place to start career and lot of opportun...              5   \n",
            "203539                             Good work life balance              5   \n",
            "203540                                    Lack of stategy              2   \n",
            "\n",
            "                  Status      User                      Title          Date  \\\n",
            "0       Current Employee    U*****         UX Design Engineer   Jan 4, 2021   \n",
            "1       Current Employee  m*******   Customer Success Manager   Feb 7, 2021   \n",
            "2       Current Employee    r*****  Senior Research Associate  Jan 16, 2021   \n",
            "3                           b*****             Data Scientist   Apr 5, 2021   \n",
            "4       Current Employee    X*****   Senior Software Engineer   Apr 8, 2021   \n",
            "...                  ...       ...                        ...           ...   \n",
            "203536  Current Employee    y*****            Product Manager  Aug 12, 2021   \n",
            "203537  Current Employee    y*****                 IT Analyst  Nov 16, 2020   \n",
            "203538  Current Employee    r*****           Engineering Lead  Oct 30, 2020   \n",
            "203539  Current Employee  y*******      Software Developer II  Nov 20, 2020   \n",
            "203540  Current Employee    D*****         Pre-Sales Engineer  Oct 10, 2020   \n",
            "\n",
            "       Career Growth Work Life Balance Compensation and Benefits  \\\n",
            "0                  3                 3                         2   \n",
            "1                  2                 4                         2   \n",
            "2                  5                 4                         4   \n",
            "3                  4                 5                         4   \n",
            "4                  4                 5                         5   \n",
            "...              ...               ...                       ...   \n",
            "203536             4                 3                         5   \n",
            "203537             4                 5                         4   \n",
            "203538             5                 5                         3   \n",
            "203539             2                 5                         2   \n",
            "203540             2                 5                         2   \n",
            "\n",
            "       Company Culture Management Timestamp (Day) Timestamp (Hour)  \n",
            "0                    1          1      2023-03-24               13  \n",
            "1                    3          2      2023-03-24               13  \n",
            "2                    5          4      2023-03-24               13  \n",
            "3                    3          4      2023-03-24               13  \n",
            "4                    5          5      2023-03-24               13  \n",
            "...                ...        ...             ...              ...  \n",
            "203536               5          4      2023-03-24               18  \n",
            "203537               5          5      2023-03-24               18  \n",
            "203538               3          4      2023-03-24               18  \n",
            "203539               2          4      2023-03-24               18  \n",
            "203540               5          1      2023-03-24               18  \n",
            "\n",
            "[203541 rows x 16 columns]\n"
          ]
        }
      ]
    },
    {
      "cell_type": "code",
      "source": [
        "categories = ['Work Life Balance', 'Management', 'Company Culture']\n",
        "result_dict = topic_modeling_pipeline(df, category_columns=categories)\n",
        "\n",
        "print(\"Keywords for each topic:\")\n",
        "print(result_dict)"
      ],
      "metadata": {
        "colab": {
          "base_uri": "https://localhost:8080/"
        },
        "id": "s1wM40B5_eVG",
        "outputId": "f33ac0d7-917f-4955-93d8-ed70c68914e7"
      },
      "execution_count": null,
      "outputs": [
        {
          "output_type": "stream",
          "name": "stdout",
          "text": [
            "Keywords for each topic:\n",
            "{'Work Life Balance': ['start', 'pay', 'poor', 'culture', 'awesome', 'team', 'better', 'compensation', 'good', 'slow', 'place', 'best', 'work', 'people', 'company', 'bad', 'learning', 'career', 'life', 'lots', 'leadership', 'management', 'experience', 'tech', 'fast', 'growth', 'decent', 'environment', 'ok', 'great', 'working', 'balance', 'okay', 'wlb', 'like', 'opportunities', 'overall'], 'Management': ['start', 'pay', 'poor', 'culture', 'awesome', 'team', 'better', 'compensation', 'good', 'slow', 'place', 'best', 'work', 'people', 'company', 'bad', 'learning', 'career', 'life', 'lots', 'leadership', 'management', 'experience', 'tech', 'fast', 'growth', 'decent', 'environment', 'ok', 'great', 'working', 'balance', 'okay', 'wlb', 'like', 'opportunities', 'overall'], 'Company Culture': ['start', 'pay', 'poor', 'culture', 'awesome', 'team', 'better', 'compensation', 'good', 'slow', 'place', 'best', 'work', 'people', 'company', 'bad', 'learning', 'career', 'life', 'lots', 'leadership', 'management', 'experience', 'tech', 'fast', 'growth', 'decent', 'environment', 'ok', 'great', 'working', 'balance', 'okay', 'wlb', 'like', 'opportunities', 'overall']}\n"
          ]
        }
      ]
    }
  ]
}